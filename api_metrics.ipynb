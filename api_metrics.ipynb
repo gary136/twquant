{
 "cells": [
  {
   "cell_type": "code",
   "execution_count": 1,
   "metadata": {},
   "outputs": [],
   "source": [
    "from twquant import stockindc as si\n",
    "from twquant import gen, drv"
   ]
  },
  {
   "cell_type": "markdown",
   "metadata": {},
   "source": [
    "# 價格"
   ]
  },
  {
   "cell_type": "code",
   "execution_count": 11,
   "metadata": {},
   "outputs": [
    {
     "data": {
      "text/html": [
       "<div>\n",
       "<style scoped>\n",
       "    .dataframe tbody tr th:only-of-type {\n",
       "        vertical-align: middle;\n",
       "    }\n",
       "\n",
       "    .dataframe tbody tr th {\n",
       "        vertical-align: top;\n",
       "    }\n",
       "\n",
       "    .dataframe thead th {\n",
       "        text-align: right;\n",
       "    }\n",
       "</style>\n",
       "<table border=\"1\" class=\"dataframe\">\n",
       "  <thead>\n",
       "    <tr style=\"text-align: right;\">\n",
       "      <th></th>\n",
       "      <th>股價日期</th>\n",
       "      <th>證券代號</th>\n",
       "      <th>證券名稱</th>\n",
       "      <th>成交股數</th>\n",
       "      <th>成交筆數</th>\n",
       "      <th>成交金額</th>\n",
       "      <th>開盤價</th>\n",
       "      <th>最高價</th>\n",
       "      <th>最低價</th>\n",
       "      <th>收盤價</th>\n",
       "      <th>漲跌價差</th>\n",
       "      <th>本益比</th>\n",
       "    </tr>\n",
       "  </thead>\n",
       "  <tbody>\n",
       "    <tr>\n",
       "      <th>15693</th>\n",
       "      <td>2020-06-19</td>\n",
       "      <td>1101</td>\n",
       "      <td>台泥</td>\n",
       "      <td>25125556.0</td>\n",
       "      <td>9486.0</td>\n",
       "      <td>1.073042e+09</td>\n",
       "      <td>42.8</td>\n",
       "      <td>43.2</td>\n",
       "      <td>42.55</td>\n",
       "      <td>42.55</td>\n",
       "      <td>0.15</td>\n",
       "      <td>10.35</td>\n",
       "    </tr>\n",
       "  </tbody>\n",
       "</table>\n",
       "</div>"
      ],
      "text/plain": [
       "            股價日期  證券代號 證券名稱        成交股數    成交筆數          成交金額   開盤價   最高價  \\\n",
       "15693 2020-06-19  1101   台泥  25125556.0  9486.0  1.073042e+09  42.8  43.2   \n",
       "\n",
       "         最低價    收盤價  漲跌價差    本益比  \n",
       "15693  42.55  42.55  0.15  10.35  "
      ]
     },
     "execution_count": 11,
     "metadata": {},
     "output_type": "execute_result"
    }
   ],
   "source": [
    "x = si.Price('20200619', '上市')\n",
    "x.head(1)"
   ]
  },
  {
   "cell_type": "code",
   "execution_count": 4,
   "metadata": {},
   "outputs": [],
   "source": [
    "# x.info()"
   ]
  },
  {
   "cell_type": "code",
   "execution_count": 19,
   "metadata": {},
   "outputs": [
    {
     "data": {
      "text/html": [
       "<div>\n",
       "<style scoped>\n",
       "    .dataframe tbody tr th:only-of-type {\n",
       "        vertical-align: middle;\n",
       "    }\n",
       "\n",
       "    .dataframe tbody tr th {\n",
       "        vertical-align: top;\n",
       "    }\n",
       "\n",
       "    .dataframe thead th {\n",
       "        text-align: right;\n",
       "    }\n",
       "</style>\n",
       "<table border=\"1\" class=\"dataframe\">\n",
       "  <thead>\n",
       "    <tr style=\"text-align: right;\">\n",
       "      <th></th>\n",
       "      <th>股價日期</th>\n",
       "      <th>代號</th>\n",
       "      <th>名稱</th>\n",
       "      <th>收盤</th>\n",
       "      <th>漲跌</th>\n",
       "      <th>開盤</th>\n",
       "      <th>最高</th>\n",
       "      <th>最低</th>\n",
       "      <th>成交股數</th>\n",
       "      <th>成交金額(元)</th>\n",
       "      <th>成交筆數</th>\n",
       "      <th>發行股數</th>\n",
       "    </tr>\n",
       "  </thead>\n",
       "  <tbody>\n",
       "    <tr>\n",
       "      <th>98</th>\n",
       "      <td>2020-06-19</td>\n",
       "      <td>1240</td>\n",
       "      <td>茂生農經</td>\n",
       "      <td>60.1</td>\n",
       "      <td>-0.8</td>\n",
       "      <td>60.9</td>\n",
       "      <td>63.0</td>\n",
       "      <td>60.0</td>\n",
       "      <td>886000.0</td>\n",
       "      <td>54578200.0</td>\n",
       "      <td>568.0</td>\n",
       "      <td>33990000.0</td>\n",
       "    </tr>\n",
       "  </tbody>\n",
       "</table>\n",
       "</div>"
      ],
      "text/plain": [
       "         股價日期    代號    名稱    收盤   漲跌    開盤    最高    最低      成交股數     成交金額(元)  \\\n",
       "98 2020-06-19  1240  茂生農經  60.1 -0.8  60.9  63.0  60.0  886000.0  54578200.0   \n",
       "\n",
       "     成交筆數        發行股數  \n",
       "98  568.0  33990000.0  "
      ]
     },
     "execution_count": 19,
     "metadata": {},
     "output_type": "execute_result"
    }
   ],
   "source": [
    "x = si.Price('20200619', '上櫃')\n",
    "x.head(1)"
   ]
  },
  {
   "cell_type": "code",
   "execution_count": 5,
   "metadata": {},
   "outputs": [],
   "source": [
    "# x.info()"
   ]
  },
  {
   "cell_type": "markdown",
   "metadata": {},
   "source": [
    "# 財報"
   ]
  },
  {
   "cell_type": "code",
   "execution_count": 3,
   "metadata": {},
   "outputs": [
    {
     "data": {
      "text/html": [
       "<div>\n",
       "<style scoped>\n",
       "    .dataframe tbody tr th:only-of-type {\n",
       "        vertical-align: middle;\n",
       "    }\n",
       "\n",
       "    .dataframe tbody tr th {\n",
       "        vertical-align: top;\n",
       "    }\n",
       "\n",
       "    .dataframe thead th {\n",
       "        text-align: right;\n",
       "    }\n",
       "</style>\n",
       "<table border=\"1\" class=\"dataframe\">\n",
       "  <thead>\n",
       "    <tr style=\"text-align: right;\">\n",
       "      <th></th>\n",
       "      <th>財報年度</th>\n",
       "      <th>季</th>\n",
       "      <th>公司代號</th>\n",
       "      <th>公司名稱</th>\n",
       "      <th>營業收入(百萬元)</th>\n",
       "      <th>毛利率(%)</th>\n",
       "      <th>營業利益率(%)</th>\n",
       "      <th>稅前純益率(%)</th>\n",
       "      <th>稅後純益率(%)</th>\n",
       "    </tr>\n",
       "  </thead>\n",
       "  <tbody>\n",
       "    <tr>\n",
       "      <th>0</th>\n",
       "      <td>2019</td>\n",
       "      <td>04</td>\n",
       "      <td>1101</td>\n",
       "      <td>台泥</td>\n",
       "      <td>122783.01</td>\n",
       "      <td>29.25</td>\n",
       "      <td>24.56</td>\n",
       "      <td>26.58</td>\n",
       "      <td>20.73</td>\n",
       "    </tr>\n",
       "  </tbody>\n",
       "</table>\n",
       "</div>"
      ],
      "text/plain": [
       "   財報年度   季  公司代號 公司名稱  營業收入(百萬元)  毛利率(%)  營業利益率(%)  稅前純益率(%)  稅後純益率(%)\n",
       "0  2019  04  1101   台泥  122783.01   29.25     24.56     26.58     20.73"
      ]
     },
     "execution_count": 3,
     "metadata": {},
     "output_type": "execute_result"
    }
   ],
   "source": [
    "x = si.FinanceRatio('上市',2019,4,'營益分析')\n",
    "x.add_raw()\n",
    "x.unify()\n",
    "x.data.head(1)"
   ]
  },
  {
   "cell_type": "code",
   "execution_count": 6,
   "metadata": {},
   "outputs": [],
   "source": [
    "# x.data.info()"
   ]
  },
  {
   "cell_type": "code",
   "execution_count": 4,
   "metadata": {},
   "outputs": [
    {
     "data": {
      "text/html": [
       "<div>\n",
       "<style scoped>\n",
       "    .dataframe tbody tr th:only-of-type {\n",
       "        vertical-align: middle;\n",
       "    }\n",
       "\n",
       "    .dataframe tbody tr th {\n",
       "        vertical-align: top;\n",
       "    }\n",
       "\n",
       "    .dataframe thead th {\n",
       "        text-align: right;\n",
       "    }\n",
       "</style>\n",
       "<table border=\"1\" class=\"dataframe\">\n",
       "  <thead>\n",
       "    <tr style=\"text-align: right;\">\n",
       "      <th></th>\n",
       "      <th>財報年度</th>\n",
       "      <th>季</th>\n",
       "      <th>市場</th>\n",
       "      <th>主產業</th>\n",
       "      <th>次產業</th>\n",
       "      <th>公司代號</th>\n",
       "      <th>公司名稱</th>\n",
       "      <th>營業收入(百萬元)</th>\n",
       "      <th>毛利率(%)</th>\n",
       "      <th>營業利益率(%)</th>\n",
       "      <th>稅前純益率(%)</th>\n",
       "      <th>稅後純益率(%)</th>\n",
       "    </tr>\n",
       "  </thead>\n",
       "  <tbody>\n",
       "    <tr>\n",
       "      <th>0</th>\n",
       "      <td>2019</td>\n",
       "      <td>04</td>\n",
       "      <td>上市</td>\n",
       "      <td>水泥製造</td>\n",
       "      <td>水泥製造</td>\n",
       "      <td>1101</td>\n",
       "      <td>台泥</td>\n",
       "      <td>122783.01</td>\n",
       "      <td>29.25</td>\n",
       "      <td>24.56</td>\n",
       "      <td>26.58</td>\n",
       "      <td>20.73</td>\n",
       "    </tr>\n",
       "  </tbody>\n",
       "</table>\n",
       "</div>"
      ],
      "text/plain": [
       "   財報年度   季  市場   主產業   次產業  公司代號 公司名稱  營業收入(百萬元)  毛利率(%)  營業利益率(%)  稅前純益率(%)  \\\n",
       "0  2019  04  上市  水泥製造  水泥製造  1101   台泥  122783.01   29.25     24.56     26.58   \n",
       "\n",
       "   稅後純益率(%)  \n",
       "0     20.73  "
      ]
     },
     "execution_count": 4,
     "metadata": {},
     "output_type": "execute_result"
    }
   ],
   "source": [
    "gen.join_tej(x.data,'公司代號').head(1)"
   ]
  },
  {
   "cell_type": "code",
   "execution_count": 6,
   "metadata": {},
   "outputs": [
    {
     "data": {
      "text/html": [
       "<div>\n",
       "<style scoped>\n",
       "    .dataframe tbody tr th:only-of-type {\n",
       "        vertical-align: middle;\n",
       "    }\n",
       "\n",
       "    .dataframe tbody tr th {\n",
       "        vertical-align: top;\n",
       "    }\n",
       "\n",
       "    .dataframe thead th {\n",
       "        text-align: right;\n",
       "    }\n",
       "</style>\n",
       "<table border=\"1\" class=\"dataframe\">\n",
       "  <thead>\n",
       "    <tr style=\"text-align: right;\">\n",
       "      <th></th>\n",
       "      <th>財報年度</th>\n",
       "      <th>公司代號</th>\n",
       "      <th>公司名稱</th>\n",
       "      <th>負債比率(%)</th>\n",
       "      <th>流動比率(%)</th>\n",
       "      <th>速動比率(%)</th>\n",
       "      <th>利息保障倍數(%)</th>\n",
       "      <th>應收款項週轉率(次)</th>\n",
       "      <th>存貨週轉率(次)</th>\n",
       "      <th>固定資產週轉率(次)</th>\n",
       "      <th>總資產週轉率(次)</th>\n",
       "      <th>資產報酬率(%)</th>\n",
       "      <th>權益報酬率(%)</th>\n",
       "      <th>每股盈餘(元)</th>\n",
       "      <th>現金流量比率(%)</th>\n",
       "      <th>現金流量允當比率(%)</th>\n",
       "      <th>現金再投資比率(%)</th>\n",
       "    </tr>\n",
       "  </thead>\n",
       "  <tbody>\n",
       "    <tr>\n",
       "      <th>0</th>\n",
       "      <td>2019</td>\n",
       "      <td>1101</td>\n",
       "      <td>台泥</td>\n",
       "      <td>43.27</td>\n",
       "      <td>177.58</td>\n",
       "      <td>164.66</td>\n",
       "      <td>18.36</td>\n",
       "      <td>3.12</td>\n",
       "      <td>9.87</td>\n",
       "      <td>1.36</td>\n",
       "      <td>0.35</td>\n",
       "      <td>7.58</td>\n",
       "      <td>12.54</td>\n",
       "      <td>4.43</td>\n",
       "      <td>43.39</td>\n",
       "      <td>81.43</td>\n",
       "      <td>2.48</td>\n",
       "    </tr>\n",
       "  </tbody>\n",
       "</table>\n",
       "</div>"
      ],
      "text/plain": [
       "   財報年度  公司代號 公司名稱  負債比率(%)  流動比率(%)  速動比率(%)  利息保障倍數(%)  應收款項週轉率(次)  \\\n",
       "0  2019  1101   台泥    43.27   177.58   164.66      18.36        3.12   \n",
       "\n",
       "   存貨週轉率(次)  固定資產週轉率(次)  總資產週轉率(次)  資產報酬率(%)  權益報酬率(%)  每股盈餘(元)  現金流量比率(%)  \\\n",
       "0      9.87        1.36       0.35      7.58     12.54     4.43      43.39   \n",
       "\n",
       "   現金流量允當比率(%)  現金再投資比率(%)  \n",
       "0        81.43        2.48  "
      ]
     },
     "execution_count": 6,
     "metadata": {},
     "output_type": "execute_result"
    }
   ],
   "source": [
    "x = si.FinanceRatio('上市',2019,4,'財務結構分析')\n",
    "x.add_raw()\n",
    "x.unify()\n",
    "x.data.head(1)"
   ]
  },
  {
   "cell_type": "code",
   "execution_count": 7,
   "metadata": {},
   "outputs": [],
   "source": [
    "# x.data.info()"
   ]
  },
  {
   "cell_type": "code",
   "execution_count": 8,
   "metadata": {},
   "outputs": [
    {
     "data": {
      "text/html": [
       "<div>\n",
       "<style scoped>\n",
       "    .dataframe tbody tr th:only-of-type {\n",
       "        vertical-align: middle;\n",
       "    }\n",
       "\n",
       "    .dataframe tbody tr th {\n",
       "        vertical-align: top;\n",
       "    }\n",
       "\n",
       "    .dataframe thead th {\n",
       "        text-align: right;\n",
       "    }\n",
       "</style>\n",
       "<table border=\"1\" class=\"dataframe\">\n",
       "  <thead>\n",
       "    <tr style=\"text-align: right;\">\n",
       "      <th></th>\n",
       "      <th>年</th>\n",
       "      <th>月</th>\n",
       "      <th>公司代號</th>\n",
       "      <th>公司名稱</th>\n",
       "      <th>8月營收</th>\n",
       "      <th>去年8月營收</th>\n",
       "      <th>8月營收年成長(%)</th>\n",
       "    </tr>\n",
       "  </thead>\n",
       "  <tbody>\n",
       "    <tr>\n",
       "      <th>0</th>\n",
       "      <td>108</td>\n",
       "      <td>8</td>\n",
       "      <td>1101</td>\n",
       "      <td>台泥</td>\n",
       "      <td>10228796</td>\n",
       "      <td>10707234</td>\n",
       "      <td>-4.46</td>\n",
       "    </tr>\n",
       "  </tbody>\n",
       "</table>\n",
       "</div>"
      ],
      "text/plain": [
       "     年  月  公司代號 公司名稱      8月營收    去年8月營收  8月營收年成長(%)\n",
       "0  108  8  1101   台泥  10228796  10707234       -4.46"
      ]
     },
     "execution_count": 8,
     "metadata": {},
     "output_type": "execute_result"
    }
   ],
   "source": [
    "x = si.Revenue('上市',2019,8)\n",
    "x.add_raw()\n",
    "x.unify()\n",
    "x.data.head(1)"
   ]
  },
  {
   "cell_type": "code",
   "execution_count": 8,
   "metadata": {},
   "outputs": [],
   "source": [
    "# x.data.info()"
   ]
  },
  {
   "cell_type": "code",
   "execution_count": 6,
   "metadata": {},
   "outputs": [],
   "source": [
    "last3Mth = si.last3MthRvnuGrw(2020,5)\n",
    "last3Mth.head(1)"
   ]
  },
  {
   "cell_type": "code",
   "execution_count": 9,
   "metadata": {},
   "outputs": [],
   "source": [
    "# last3Mth.info()"
   ]
  },
  {
   "cell_type": "markdown",
   "metadata": {},
   "source": [
    "# 股利 or 減資"
   ]
  },
  {
   "cell_type": "code",
   "execution_count": 28,
   "metadata": {},
   "outputs": [
    {
     "data": {
      "text/html": [
       "<div>\n",
       "<style scoped>\n",
       "    .dataframe tbody tr th:only-of-type {\n",
       "        vertical-align: middle;\n",
       "    }\n",
       "\n",
       "    .dataframe tbody tr th {\n",
       "        vertical-align: top;\n",
       "    }\n",
       "\n",
       "    .dataframe thead th {\n",
       "        text-align: right;\n",
       "    }\n",
       "</style>\n",
       "<table border=\"1\" class=\"dataframe\">\n",
       "  <thead>\n",
       "    <tr style=\"text-align: right;\">\n",
       "      <th></th>\n",
       "      <th>資料日期</th>\n",
       "      <th>MKT</th>\n",
       "      <th>公司代號</th>\n",
       "      <th>公司名稱</th>\n",
       "      <th>現金股利</th>\n",
       "      <th>股票股利</th>\n",
       "    </tr>\n",
       "  </thead>\n",
       "  <tbody>\n",
       "    <tr>\n",
       "      <th>5</th>\n",
       "      <td>20200618</td>\n",
       "      <td>上市</td>\n",
       "      <td>2330</td>\n",
       "      <td>台積電</td>\n",
       "      <td>2.5</td>\n",
       "      <td>0.0</td>\n",
       "    </tr>\n",
       "    <tr>\n",
       "      <th>53</th>\n",
       "      <td>20200917</td>\n",
       "      <td>上市</td>\n",
       "      <td>2330</td>\n",
       "      <td>台積電</td>\n",
       "      <td>2.5</td>\n",
       "      <td>0.0</td>\n",
       "    </tr>\n",
       "  </tbody>\n",
       "</table>\n",
       "</div>"
      ],
      "text/plain": [
       "        資料日期 MKT  公司代號 公司名稱  現金股利  股票股利\n",
       "5   20200618  上市  2330  台積電   2.5   0.0\n",
       "53  20200917  上市  2330  台積電   2.5   0.0"
      ]
     },
     "execution_count": 28,
     "metadata": {},
     "output_type": "execute_result"
    }
   ],
   "source": [
    "x = si.Dividend('上市',2020)\n",
    "x.add_raw()\n",
    "x.unify()\n",
    "x.data[x.data.公司代號=='2330']"
   ]
  },
  {
   "cell_type": "code",
   "execution_count": 10,
   "metadata": {},
   "outputs": [],
   "source": [
    "# x.data.info()"
   ]
  },
  {
   "cell_type": "code",
   "execution_count": 36,
   "metadata": {},
   "outputs": [
    {
     "data": {
      "text/html": [
       "<div>\n",
       "<style scoped>\n",
       "    .dataframe tbody tr th:only-of-type {\n",
       "        vertical-align: middle;\n",
       "    }\n",
       "\n",
       "    .dataframe tbody tr th {\n",
       "        vertical-align: top;\n",
       "    }\n",
       "\n",
       "    .dataframe thead th {\n",
       "        text-align: right;\n",
       "    }\n",
       "</style>\n",
       "<table border=\"1\" class=\"dataframe\">\n",
       "  <thead>\n",
       "    <tr style=\"text-align: right;\">\n",
       "      <th></th>\n",
       "      <th>資料日期</th>\n",
       "      <th>MKT</th>\n",
       "      <th>公司代號</th>\n",
       "      <th>公司名稱</th>\n",
       "      <th>現金股利</th>\n",
       "      <th>股票股利</th>\n",
       "    </tr>\n",
       "  </thead>\n",
       "  <tbody>\n",
       "    <tr>\n",
       "      <th>26</th>\n",
       "      <td>20200416</td>\n",
       "      <td>上櫃</td>\n",
       "      <td>8446</td>\n",
       "      <td>華研</td>\n",
       "      <td>4.5</td>\n",
       "      <td>0.0</td>\n",
       "    </tr>\n",
       "  </tbody>\n",
       "</table>\n",
       "</div>"
      ],
      "text/plain": [
       "        資料日期 MKT  公司代號 公司名稱  現金股利  股票股利\n",
       "26  20200416  上櫃  8446   華研   4.5   0.0"
      ]
     },
     "execution_count": 36,
     "metadata": {},
     "output_type": "execute_result"
    }
   ],
   "source": [
    "x = si.Dividend('上櫃',2020)\n",
    "x.add_raw()\n",
    "x.unify()\n",
    "x.data[x.data.公司代號=='8446']"
   ]
  },
  {
   "cell_type": "code",
   "execution_count": 11,
   "metadata": {},
   "outputs": [],
   "source": [
    "# x.data.info()"
   ]
  },
  {
   "cell_type": "code",
   "execution_count": 33,
   "metadata": {},
   "outputs": [
    {
     "data": {
      "text/html": [
       "<div>\n",
       "<style scoped>\n",
       "    .dataframe tbody tr th:only-of-type {\n",
       "        vertical-align: middle;\n",
       "    }\n",
       "\n",
       "    .dataframe tbody tr th {\n",
       "        vertical-align: top;\n",
       "    }\n",
       "\n",
       "    .dataframe thead th {\n",
       "        text-align: right;\n",
       "    }\n",
       "</style>\n",
       "<table border=\"1\" class=\"dataframe\">\n",
       "  <thead>\n",
       "    <tr style=\"text-align: right;\">\n",
       "      <th></th>\n",
       "      <th>資料日期</th>\n",
       "      <th>股票代號</th>\n",
       "      <th>股票名稱</th>\n",
       "      <th>現金股利</th>\n",
       "      <th>股票股利</th>\n",
       "      <th>詳細資料</th>\n",
       "    </tr>\n",
       "  </thead>\n",
       "  <tbody>\n",
       "    <tr>\n",
       "      <th>8</th>\n",
       "      <td>20200131</td>\n",
       "      <td>0050</td>\n",
       "      <td>元大台灣50</td>\n",
       "      <td>2.900000</td>\n",
       "      <td>0</td>\n",
       "      <td>exchange/TWT49UDetail?STK_NO=0050&amp;&amp;T1=20200131</td>\n",
       "    </tr>\n",
       "  </tbody>\n",
       "</table>\n",
       "</div>"
      ],
      "text/plain": [
       "       資料日期  股票代號    股票名稱      現金股利 股票股利  \\\n",
       "8  20200131  0050  元大台灣50  2.900000    0   \n",
       "\n",
       "                                             詳細資料  \n",
       "8  exchange/TWT49UDetail?STK_NO=0050&&T1=20200131  "
      ]
     },
     "execution_count": 33,
     "metadata": {},
     "output_type": "execute_result"
    }
   ],
   "source": [
    "x = si.EtfDiv(2020)\n",
    "x.add_raw()\n",
    "x.unify()\n",
    "x.data[x.data.股票代號=='0050']"
   ]
  },
  {
   "cell_type": "code",
   "execution_count": 12,
   "metadata": {},
   "outputs": [],
   "source": [
    "# x.data.info()"
   ]
  },
  {
   "cell_type": "code",
   "execution_count": 7,
   "metadata": {},
   "outputs": [],
   "source": [
    "x = si.CptlReduct('上市',2020)\n",
    "x.add_raw()\n",
    "x.unify()\n",
    "x.data.head(1)"
   ]
  },
  {
   "cell_type": "code",
   "execution_count": 13,
   "metadata": {},
   "outputs": [],
   "source": [
    "# x.data.info()"
   ]
  },
  {
   "cell_type": "code",
   "execution_count": 40,
   "metadata": {},
   "outputs": [
    {
     "data": {
      "text/html": [
       "<div>\n",
       "<style scoped>\n",
       "    .dataframe tbody tr th:only-of-type {\n",
       "        vertical-align: middle;\n",
       "    }\n",
       "\n",
       "    .dataframe tbody tr th {\n",
       "        vertical-align: top;\n",
       "    }\n",
       "\n",
       "    .dataframe thead th {\n",
       "        text-align: right;\n",
       "    }\n",
       "</style>\n",
       "<table border=\"1\" class=\"dataframe\">\n",
       "  <thead>\n",
       "    <tr style=\"text-align: right;\">\n",
       "      <th></th>\n",
       "      <th>資料日期</th>\n",
       "      <th>MKT</th>\n",
       "      <th>股票代號</th>\n",
       "      <th>名稱</th>\n",
       "      <th>停止買賣前價格</th>\n",
       "      <th>恢復買賣參考價</th>\n",
       "      <th>減資原因</th>\n",
       "      <th>每千股換發股數</th>\n",
       "      <th>每股退還金額</th>\n",
       "    </tr>\n",
       "  </thead>\n",
       "  <tbody>\n",
       "    <tr>\n",
       "      <th>0</th>\n",
       "      <td>20200113</td>\n",
       "      <td>上櫃</td>\n",
       "      <td>3073</td>\n",
       "      <td>凱柏實業</td>\n",
       "      <td>5.2</td>\n",
       "      <td>9.76</td>\n",
       "      <td>彌補虧損</td>\n",
       "      <td>532.79</td>\n",
       "      <td>0.0</td>\n",
       "    </tr>\n",
       "  </tbody>\n",
       "</table>\n",
       "</div>"
      ],
      "text/plain": [
       "       資料日期 MKT  股票代號    名稱  停止買賣前價格  恢復買賣參考價  減資原因  每千股換發股數  每股退還金額\n",
       "0  20200113  上櫃  3073  凱柏實業      5.2     9.76  彌補虧損   532.79     0.0"
      ]
     },
     "execution_count": 40,
     "metadata": {},
     "output_type": "execute_result"
    }
   ],
   "source": [
    "x = si.CptlReduct('上櫃',2020)\n",
    "x.add_raw()\n",
    "x.unify()\n",
    "x.data.head(1)"
   ]
  },
  {
   "cell_type": "code",
   "execution_count": 14,
   "metadata": {},
   "outputs": [],
   "source": [
    "# x.data.info()"
   ]
  },
  {
   "cell_type": "markdown",
   "metadata": {},
   "source": [
    "# 年度匯總"
   ]
  },
  {
   "cell_type": "code",
   "execution_count": 5,
   "metadata": {},
   "outputs": [
    {
     "name": "stdout",
     "output_type": "stream",
     "text": [
      "2019 stage = siiRatio otcRatio\n"
     ]
    },
    {
     "data": {
      "text/html": [
       "<div>\n",
       "<style scoped>\n",
       "    .dataframe tbody tr th:only-of-type {\n",
       "        vertical-align: middle;\n",
       "    }\n",
       "\n",
       "    .dataframe tbody tr th {\n",
       "        vertical-align: top;\n",
       "    }\n",
       "\n",
       "    .dataframe thead th {\n",
       "        text-align: right;\n",
       "    }\n",
       "</style>\n",
       "<table border=\"1\" class=\"dataframe\">\n",
       "  <thead>\n",
       "    <tr style=\"text-align: right;\">\n",
       "      <th></th>\n",
       "      <th>財報年度</th>\n",
       "      <th>公司代號</th>\n",
       "      <th>公司名稱</th>\n",
       "      <th>營業收入(百萬元)</th>\n",
       "      <th>毛利率(%)</th>\n",
       "      <th>營業利益率(%)</th>\n",
       "      <th>稅前純益率(%)</th>\n",
       "      <th>稅後純益率(%)</th>\n",
       "      <th>負債比率(%)</th>\n",
       "      <th>流動比率(%)</th>\n",
       "      <th>...</th>\n",
       "      <th>應收款項週轉率(次)</th>\n",
       "      <th>存貨週轉率(次)</th>\n",
       "      <th>固定資產週轉率(次)</th>\n",
       "      <th>總資產週轉率(次)</th>\n",
       "      <th>資產報酬率(%)</th>\n",
       "      <th>權益報酬率(%)</th>\n",
       "      <th>每股盈餘(元)</th>\n",
       "      <th>現金流量比率(%)</th>\n",
       "      <th>現金流量允當比率(%)</th>\n",
       "      <th>現金再投資比率(%)</th>\n",
       "    </tr>\n",
       "  </thead>\n",
       "  <tbody>\n",
       "    <tr>\n",
       "      <th>0</th>\n",
       "      <td>2019</td>\n",
       "      <td>1101</td>\n",
       "      <td>台泥</td>\n",
       "      <td>122783.01</td>\n",
       "      <td>29.25</td>\n",
       "      <td>24.56</td>\n",
       "      <td>26.58</td>\n",
       "      <td>20.73</td>\n",
       "      <td>43.27</td>\n",
       "      <td>177.58</td>\n",
       "      <td>...</td>\n",
       "      <td>3.12</td>\n",
       "      <td>9.87</td>\n",
       "      <td>1.36</td>\n",
       "      <td>0.35</td>\n",
       "      <td>7.58</td>\n",
       "      <td>12.54</td>\n",
       "      <td>4.43</td>\n",
       "      <td>43.39</td>\n",
       "      <td>81.43</td>\n",
       "      <td>2.48</td>\n",
       "    </tr>\n",
       "  </tbody>\n",
       "</table>\n",
       "<p>1 rows × 22 columns</p>\n",
       "</div>"
      ],
      "text/plain": [
       "   財報年度  公司代號 公司名稱  營業收入(百萬元)  毛利率(%)  營業利益率(%)  稅前純益率(%)  稅後純益率(%)  負債比率(%)  \\\n",
       "0  2019  1101   台泥  122783.01   29.25     24.56     26.58     20.73    43.27   \n",
       "\n",
       "   流動比率(%)  ...  應收款項週轉率(次)  存貨週轉率(次)  固定資產週轉率(次)  總資產週轉率(次)  資產報酬率(%)  \\\n",
       "0   177.58  ...        3.12      9.87        1.36       0.35      7.58   \n",
       "\n",
       "   權益報酬率(%)  每股盈餘(元)  現金流量比率(%)  現金流量允當比率(%)  現金再投資比率(%)  \n",
       "0     12.54     4.43      43.39        81.43        2.48  \n",
       "\n",
       "[1 rows x 22 columns]"
      ]
     },
     "execution_count": 5,
     "metadata": {},
     "output_type": "execute_result"
    }
   ],
   "source": [
    "r_2019 = gen.YearlyRatio(2019)\n",
    "r_2019.head(1)"
   ]
  },
  {
   "cell_type": "code",
   "execution_count": 18,
   "metadata": {},
   "outputs": [],
   "source": [
    "# r_2019.info()"
   ]
  },
  {
   "cell_type": "code",
   "execution_count": 2,
   "metadata": {},
   "outputs": [
    {
     "name": "stdout",
     "output_type": "stream",
     "text": [
      "2019 stage = siiRatio otcRatio\n",
      "last 3 month rvnu period = 202003 - 202001 "
     ]
    },
    {
     "data": {
      "text/html": [
       "<div>\n",
       "<style scoped>\n",
       "    .dataframe tbody tr th:only-of-type {\n",
       "        vertical-align: middle;\n",
       "    }\n",
       "\n",
       "    .dataframe tbody tr th {\n",
       "        vertical-align: top;\n",
       "    }\n",
       "\n",
       "    .dataframe thead th {\n",
       "        text-align: right;\n",
       "    }\n",
       "</style>\n",
       "<table border=\"1\" class=\"dataframe\">\n",
       "  <thead>\n",
       "    <tr style=\"text-align: right;\">\n",
       "      <th></th>\n",
       "      <th>公司代號</th>\n",
       "      <th>公司名稱</th>\n",
       "      <th>市場</th>\n",
       "      <th>主產業</th>\n",
       "      <th>次產業</th>\n",
       "      <th>財報年度</th>\n",
       "      <th>營業收入(百萬元)</th>\n",
       "      <th>毛利率(%)</th>\n",
       "      <th>營業利益率(%)</th>\n",
       "      <th>稅前純益率(%)</th>\n",
       "      <th>...</th>\n",
       "      <th>每股盈餘(元)</th>\n",
       "      <th>現金流量比率(%)</th>\n",
       "      <th>現金流量允當比率(%)</th>\n",
       "      <th>現金再投資比率(%)</th>\n",
       "      <th>近3月營收 平均YOY(%)</th>\n",
       "      <th>近3月累計營收 YOY(%)</th>\n",
       "      <th>年報公佈後收盤價</th>\n",
       "      <th>本益比</th>\n",
       "      <th>PE1 中位數</th>\n",
       "      <th>PE2 中位數</th>\n",
       "    </tr>\n",
       "  </thead>\n",
       "  <tbody>\n",
       "    <tr>\n",
       "      <th>0</th>\n",
       "      <td>1101</td>\n",
       "      <td>台泥</td>\n",
       "      <td>上市</td>\n",
       "      <td>水泥製造</td>\n",
       "      <td>水泥製造</td>\n",
       "      <td>2019</td>\n",
       "      <td>122783.01</td>\n",
       "      <td>29.25</td>\n",
       "      <td>24.56</td>\n",
       "      <td>26.58</td>\n",
       "      <td>...</td>\n",
       "      <td>4.43</td>\n",
       "      <td>43.39</td>\n",
       "      <td>81.43</td>\n",
       "      <td>2.48</td>\n",
       "      <td>-11.57</td>\n",
       "      <td>-13.33</td>\n",
       "      <td>41.0</td>\n",
       "      <td>9.26</td>\n",
       "      <td>9.46</td>\n",
       "      <td>9.46</td>\n",
       "    </tr>\n",
       "  </tbody>\n",
       "</table>\n",
       "<p>1 rows × 31 columns</p>\n",
       "</div>"
      ],
      "text/plain": [
       "   公司代號 公司名稱  市場   主產業   次產業  財報年度  營業收入(百萬元)  毛利率(%)  營業利益率(%)  稅前純益率(%)  \\\n",
       "0  1101   台泥  上市  水泥製造  水泥製造  2019  122783.01   29.25     24.56     26.58   \n",
       "\n",
       "   ...  每股盈餘(元)  現金流量比率(%)  現金流量允當比率(%)  現金再投資比率(%)  近3月營收 平均YOY(%)  \\\n",
       "0  ...     4.43      43.39        81.43        2.48          -11.57   \n",
       "\n",
       "   近3月累計營收 YOY(%)  年報公佈後收盤價   本益比  PE1 中位數  PE2 中位數  \n",
       "0          -13.33      41.0  9.26     9.46     9.46  \n",
       "\n",
       "[1 rows x 31 columns]"
      ]
     },
     "execution_count": 2,
     "metadata": {},
     "output_type": "execute_result"
    }
   ],
   "source": [
    "y_2019 = gen.YearlyFinanceReport(2019)\n",
    "y_2019.head(1)"
   ]
  },
  {
   "cell_type": "code",
   "execution_count": 19,
   "metadata": {},
   "outputs": [],
   "source": [
    "# y_2019.info()"
   ]
  }
 ],
 "metadata": {
  "kernelspec": {
   "display_name": "Python 3",
   "language": "python",
   "name": "python3"
  },
  "language_info": {
   "codemirror_mode": {
    "name": "ipython",
    "version": 3
   },
   "file_extension": ".py",
   "mimetype": "text/x-python",
   "name": "python",
   "nbconvert_exporter": "python",
   "pygments_lexer": "ipython3",
   "version": "3.6.4"
  }
 },
 "nbformat": 4,
 "nbformat_minor": 2
}

{
 "cells": [
  {
   "cell_type": "code",
   "execution_count": 1,
   "metadata": {},
   "outputs": [],
   "source": [
    "from twquant import stockindc as si\n",
    "from twquant import gen, drv"
   ]
  },
  {
   "cell_type": "code",
   "execution_count": 2,
   "metadata": {},
   "outputs": [],
   "source": [
    "drv.pd.set_option('display.max_rows', 5000)\n",
    "drv.pd.set_option('display.max_columns', 500)\n",
    "drv.pd.set_option('display.width', 1000)\n",
    "drv.plt.rcParams['font.sans-serif'] = ['Microsoft JhengHei'] \n",
    "drv.plt.rcParams['axes.unicode_minus'] = False"
   ]
  },
  {
   "cell_type": "markdown",
   "metadata": {},
   "source": [
    "# Download"
   ]
  },
  {
   "cell_type": "code",
   "execution_count": 10,
   "metadata": {},
   "outputs": [],
   "source": [
    "download_list = ('ratio','rpt','etf', 'div', 'rdc', 'adjusting_price', 'comparing_stock')\n",
    "start_y = 2011 \n",
    "end_y = 2019 \n",
    "for i, x in enumerate(download_list):\n",
    "    end_y = end_y if i in (0,1,5,6) else end_y+1\n",
    "    drv.download(x, start_y, end_y)        "
   ]
  },
  {
   "cell_type": "code",
   "execution_count": 9,
   "metadata": {},
   "outputs": [],
   "source": [
    "# check if computing yoy fine"
   ]
  },
  {
   "cell_type": "code",
   "execution_count": 3,
   "metadata": {},
   "outputs": [
    {
     "data": {
      "text/html": [
       "<div>\n",
       "<style scoped>\n",
       "    .dataframe tbody tr th:only-of-type {\n",
       "        vertical-align: middle;\n",
       "    }\n",
       "\n",
       "    .dataframe tbody tr th {\n",
       "        vertical-align: top;\n",
       "    }\n",
       "\n",
       "    .dataframe thead th {\n",
       "        text-align: right;\n",
       "    }\n",
       "</style>\n",
       "<table border=\"1\" class=\"dataframe\">\n",
       "  <thead>\n",
       "    <tr style=\"text-align: right;\">\n",
       "      <th></th>\n",
       "      <th>公司代號</th>\n",
       "      <th>公司名稱</th>\n",
       "      <th>市場</th>\n",
       "      <th>主產業</th>\n",
       "      <th>次產業</th>\n",
       "      <th>財報年度</th>\n",
       "      <th>營業收入(百萬元)</th>\n",
       "      <th>毛利率(%)</th>\n",
       "      <th>營業利益率(%)</th>\n",
       "      <th>稅前純益率(%)</th>\n",
       "      <th>...</th>\n",
       "      <th>現金流量允當比率(%)</th>\n",
       "      <th>現金再投資比率(%)</th>\n",
       "      <th>近3月營收 平均YOY(%)</th>\n",
       "      <th>近3月累計營收 YOY(%)</th>\n",
       "      <th>年報公佈後收盤價</th>\n",
       "      <th>本益比</th>\n",
       "      <th>PE1 中位數</th>\n",
       "      <th>PE2 中位數</th>\n",
       "      <th>相對 PE1 比率</th>\n",
       "      <th>相對 PE2 比率</th>\n",
       "    </tr>\n",
       "  </thead>\n",
       "  <tbody>\n",
       "    <tr>\n",
       "      <th>0</th>\n",
       "      <td>1101</td>\n",
       "      <td>台泥</td>\n",
       "      <td>上市</td>\n",
       "      <td>水泥製造</td>\n",
       "      <td>水泥製造</td>\n",
       "      <td>2018</td>\n",
       "      <td>124594.6</td>\n",
       "      <td>26.96</td>\n",
       "      <td>22.62</td>\n",
       "      <td>24.52</td>\n",
       "      <td>...</td>\n",
       "      <td>80.9</td>\n",
       "      <td>3.68</td>\n",
       "      <td>4.97</td>\n",
       "      <td>4.87</td>\n",
       "      <td>42.05</td>\n",
       "      <td>9.62</td>\n",
       "      <td>12.01</td>\n",
       "      <td>12.01</td>\n",
       "      <td>0.801</td>\n",
       "      <td>0.801</td>\n",
       "    </tr>\n",
       "  </tbody>\n",
       "</table>\n",
       "<p>1 rows × 33 columns</p>\n",
       "</div>"
      ],
      "text/plain": [
       "   公司代號 公司名稱  市場   主產業   次產業  財報年度  營業收入(百萬元)  毛利率(%)  營業利益率(%)  稅前純益率(%)  \\\n",
       "0  1101   台泥  上市  水泥製造  水泥製造  2018   124594.6   26.96     22.62     24.52   \n",
       "\n",
       "   ...  現金流量允當比率(%)  現金再投資比率(%)  近3月營收 平均YOY(%)  近3月累計營收 YOY(%)  年報公佈後收盤價  \\\n",
       "0  ...         80.9        3.68            4.97            4.87     42.05   \n",
       "\n",
       "    本益比  PE1 中位數  PE2 中位數  相對 PE1 比率  相對 PE2 比率  \n",
       "0  9.62    12.01    12.01      0.801      0.801  \n",
       "\n",
       "[1 rows x 33 columns]"
      ]
     },
     "execution_count": 3,
     "metadata": {},
     "output_type": "execute_result"
    }
   ],
   "source": [
    "y_2018 = si.pd.read_csv('./rpt/rpt_2018.csv')\n",
    "y_2018.head(1)"
   ]
  },
  {
   "cell_type": "code",
   "execution_count": 4,
   "metadata": {},
   "outputs": [],
   "source": [
    "r_2017 = si.pd.read_csv('./fnt/fnt_2017.csv')\n",
    "report_2018 = drv.add_indicator_growth(y_2018, r_2017)\n",
    "report_2018.公司代號 = report_2018.公司代號.astype(str)"
   ]
  },
  {
   "cell_type": "code",
   "execution_count": 5,
   "metadata": {},
   "outputs": [
    {
     "data": {
      "text/html": [
       "<div>\n",
       "<style scoped>\n",
       "    .dataframe tbody tr th:only-of-type {\n",
       "        vertical-align: middle;\n",
       "    }\n",
       "\n",
       "    .dataframe tbody tr th {\n",
       "        vertical-align: top;\n",
       "    }\n",
       "\n",
       "    .dataframe thead th {\n",
       "        text-align: right;\n",
       "    }\n",
       "</style>\n",
       "<table border=\"1\" class=\"dataframe\">\n",
       "  <thead>\n",
       "    <tr style=\"text-align: right;\">\n",
       "      <th></th>\n",
       "      <th>公司代號</th>\n",
       "      <th>公司名稱</th>\n",
       "      <th>市場</th>\n",
       "      <th>主產業</th>\n",
       "      <th>次產業</th>\n",
       "      <th>財報年度</th>\n",
       "      <th>營業收入(百萬元)</th>\n",
       "      <th>毛利率(%)</th>\n",
       "      <th>營業利益率(%)</th>\n",
       "      <th>稅前純益率(%)</th>\n",
       "      <th>...</th>\n",
       "      <th>PE2 中位數</th>\n",
       "      <th>相對 PE1 比率</th>\n",
       "      <th>相對 PE2 比率</th>\n",
       "      <th>營業收入 YOY(%)</th>\n",
       "      <th>毛利率 YOY(%)</th>\n",
       "      <th>營業利益率 YOY(%)</th>\n",
       "      <th>稅後純益率 YOY(%)</th>\n",
       "      <th>資產報酬率 YOY(%)</th>\n",
       "      <th>權益報酬率 YOY(%)</th>\n",
       "      <th>現金再投資比率 YOY(%)</th>\n",
       "    </tr>\n",
       "  </thead>\n",
       "  <tbody>\n",
       "    <tr>\n",
       "      <th>0</th>\n",
       "      <td>1101</td>\n",
       "      <td>台泥</td>\n",
       "      <td>上市</td>\n",
       "      <td>水泥製造</td>\n",
       "      <td>水泥製造</td>\n",
       "      <td>2018</td>\n",
       "      <td>124594.6</td>\n",
       "      <td>26.96</td>\n",
       "      <td>22.62</td>\n",
       "      <td>24.52</td>\n",
       "      <td>...</td>\n",
       "      <td>12.01</td>\n",
       "      <td>0.801</td>\n",
       "      <td>0.801</td>\n",
       "      <td>26.73</td>\n",
       "      <td>7.72</td>\n",
       "      <td>8.42</td>\n",
       "      <td>7.67</td>\n",
       "      <td>3.59</td>\n",
       "      <td>6.06</td>\n",
       "      <td>2.11</td>\n",
       "    </tr>\n",
       "  </tbody>\n",
       "</table>\n",
       "<p>1 rows × 40 columns</p>\n",
       "</div>"
      ],
      "text/plain": [
       "   公司代號 公司名稱  市場   主產業   次產業  財報年度  營業收入(百萬元)  毛利率(%)  營業利益率(%)  稅前純益率(%)  \\\n",
       "0  1101   台泥  上市  水泥製造  水泥製造  2018   124594.6   26.96     22.62     24.52   \n",
       "\n",
       "   ...  PE2 中位數  相對 PE1 比率  相對 PE2 比率  營業收入 YOY(%)  毛利率 YOY(%)  營業利益率 YOY(%)  \\\n",
       "0  ...    12.01      0.801      0.801        26.73        7.72          8.42   \n",
       "\n",
       "   稅後純益率 YOY(%)  資產報酬率 YOY(%)  權益報酬率 YOY(%)  現金再投資比率 YOY(%)  \n",
       "0          7.67          3.59          6.06            2.11  \n",
       "\n",
       "[1 rows x 40 columns]"
      ]
     },
     "execution_count": 5,
     "metadata": {},
     "output_type": "execute_result"
    }
   ],
   "source": [
    "report_2018.head(1)"
   ]
  },
  {
   "cell_type": "markdown",
   "metadata": {},
   "source": [
    "# BackTesting (single year)"
   ]
  },
  {
   "cell_type": "code",
   "execution_count": 5,
   "metadata": {},
   "outputs": [],
   "source": [
    "def example_function(df):\n",
    "    criteria = [\n",
    "         df['收盤價_x']!=1e-4\n",
    "        ,df['還原股價']!=1e-4\n",
    "        ,df['資產報酬率 YOY(%)']>2.5\n",
    "        ,df['本益比']<35\n",
    "        ,df['近3月累計營收 YOY(%)']>-2.5\n",
    "        ]\n",
    "    return drv.BackTesting.parse_criteria(df, criteria)"
   ]
  },
  {
   "cell_type": "code",
   "execution_count": 6,
   "metadata": {},
   "outputs": [
    {
     "name": "stdout",
     "output_type": "stream",
     "text": [
      "use 2014 finance statement (which cannot be accessed till 20150412) to evaluate performance from 20150413 to 20160408\n",
      "財報年度 = 2014, 回測期間 = 20150413~20160408\n",
      "台灣50指數 69.85 -> 65.0, 年報酬 = -6.94%, 未篩選前隨機個股報酬>台灣50比例 = 37.5%\n",
      "篩選股數 = 166, 年報酬 = -8.66%, 超額報酬 = -1.7199999999999998%, 篩選個股報酬>台灣50比例 = 39.16%\n",
      "\n"
     ]
    },
    {
     "name": "stderr",
     "output_type": "stream",
     "text": [
      "/Users/gary/project/stock_analysis/twquant/drv.py:244: UserWarning: Boolean Series key will be reindexed to match DataFrame index.\n",
      "  df = df[i]\n"
     ]
    }
   ],
   "source": [
    "test_object, data, rtn_for_stock = drv.SingleYearTesting(2014, example_function)"
   ]
  },
  {
   "cell_type": "markdown",
   "metadata": {},
   "source": [
    "# BackTesting (multiple years)"
   ]
  },
  {
   "cell_type": "code",
   "execution_count": 8,
   "metadata": {},
   "outputs": [
    {
     "name": "stdout",
     "output_type": "stream",
     "text": [
      "歷史績效:\n",
      "近 3 年報酬 tw50=21.43% v.s 自選etf=0.54%\n",
      "近 5 年報酬 tw50=37.19% v.s 自選etf=-3.14%\n",
      "近 7 年報酬 tw50=83.44% v.s 自選etf=44.95%\n"
     ]
    },
    {
     "data": {
      "image/png": "[encoded data removed]",
      "text/plain": [
       "<Figure size 648x288 with 1 Axes>"
      ]
     },
     "metadata": {
      "needs_background": "light"
     },
     "output_type": "display_data"
    }
   ],
   "source": [
    "d_criteria, tw50_array, slct_array = drv.SearchBestCriteria\\\n",
    "(2012, 2018, criteria=example_function, verbose=False, graph=True)"
   ]
  }
 ],
 "metadata": {
  "kernelspec": {
   "display_name": "Python 3",
   "language": "python",
   "name": "python3"
  },
  "language_info": {
   "codemirror_mode": {
    "name": "ipython",
    "version": 3
   },
   "file_extension": ".py",
   "mimetype": "text/x-python",
   "name": "python",
   "nbconvert_exporter": "python",
   "pygments_lexer": "ipython3",
   "version": "3.6.4"
  }
 },
 "nbformat": 4,
 "nbformat_minor": 2
}
